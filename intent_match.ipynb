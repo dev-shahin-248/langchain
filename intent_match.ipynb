{
 "cells": [
  {
   "cell_type": "code",
   "execution_count": 22,
   "metadata": {},
   "outputs": [],
   "source": [
    "from sentence_transformers import SentenceTransformer, util\n",
    "\n",
    "\n",
    "# paraphrase-multilingual-MiniLM-L12-v2 -> best for multilingual\n",
    "# sentence-transformers/all-MiniLM-L6-v2 -> best for english [multi-qa-MiniLM-L6-cos-v1 alternative]\n",
    "\n",
    "hardware_requirements = {\n",
    "    \"CPU\": \"Intel Core i5 or equivalent (4 cores or more)\",\n",
    "    \"GPU\": \"Not required (works on CPU)\",\n",
    "    \"RAM\": \"16 GB\",\n",
    "    \"Storage\": \"20-50 GB SSD\",\n",
    "    \"Network\": \"1Gbps connection for real-time serving\",\n",
    "    \"Operating System\": \"Linux-based systems (e.g., Ubuntu, CentOS, Debian)\",\n",
    "    \"Python Version\": \"Python 3.7+\"\n",
    "}\n",
    "\n",
    "# Load the model (Runs on CPU)\n",
    "model = SentenceTransformer(\"sentence-transformers/paraphrase-multilingual-MiniLM-L12-v2\")\n",
    "\n",
    "# Example intents\n",
    "intents = {\n",
    "    \"greeting\": [\"Hello!\", \"Hi there!\", \"Good morning\", \"Hey!\", \"How's it going?\", \"What's up?\"],\n",
    "    \"goodbye\": [\"Goodbye!\", \"See you later!\", \"Take care\", \"Bye!\", \"See you soon\", \"Farewell\"],\n",
    "    \"weather\": [\"What's the weather like?\", \"Tell me the forecast\", \"How's the weather today?\", \"Is it raining?\", \"What's the temperature?\", \"Do I need an umbrella today?\"],\n",
    "    \"order_status\": [\"Where is my order?\", \"Check my order status\", \"Is my order shipped?\", \"When will my order arrive?\", \"Track my order\", \"What is the status of my order?\"],\n",
    "    \"Annual Leave Allowance\": [\"How much annual leave do I have?\", \"What is the annual leave allowance?\", \"How many days of leave can I take?\", \"What is the policy for annual leave?\"],\n",
    "    \"Annual Leave Carryover Rules\": [\"Can I carry over my annual leave?\", \"What happens if I don't use all my leave?\", \"How much leave can I carry over to the next year?\", \"What is the carryover policy for annual leave?\"],\n",
    "    \"Attendance\": [\"How is attendance tracked?\", \"What is the attendance policy?\", \"How do I mark my attendance?\", \"Can I check my attendance?\", \"What happens if I miss work?\", \"How is attendance reported?\"],\n",
    "    \"Corporate Offers\": [\"What are the corporate offers?\", \"Can I get discounts through corporate offers?\", \"Tell me about the corporate deals available\", \"Are there any special offers for employees?\", \"What corporate offers are available this month?\"],\n",
    "    \"Leave Application Process\": [\"How do I apply for leave?\", \"What is the process for applying for leave?\", \"Can I apply for leave online?\", \"How do I submit a leave request?\", \"What steps do I follow to apply for leave?\"],\n",
    "    \"Leave Encashment Policy\": [\"What is the leave encashment policy?\", \"Can I encash my unused leave?\", \"How does leave encashment work?\", \"What is the procedure for leave encashment?\", \"Is there a limit on leave encashment?\", \"How is leave encashment calculated?\"],\n",
    "    \"Leave Policy\": [\"What is the leave policy?\", \"How many days of leave am I entitled to?\", \"What types of leave are available?\", \"Can I take leave for personal reasons?\", \"What are the rules for taking leave?\", \"Is there any restriction on taking leave?\"]\n",
    "}\n",
    "\n",
    "\n",
    "# Encode intent sentences\n",
    "intent_embeddings = {intent: [model.encode(sent) for sent in examples] for intent, examples in intents.items()}\n",
    "\n",
    "\n",
    "\n",
    "def find_intent(user_query):\n",
    "    query_embedding = model.encode(user_query)\n",
    "    best_intent, highest_score = None, 0.0\n",
    "\n",
    "    for intent, examples in intent_embeddings.items():\n",
    "        for example_embedding in examples:\n",
    "            score = util.cos_sim(query_embedding, example_embedding).item()\n",
    "            if score > highest_score:\n",
    "                highest_score, best_intent = score, intent\n",
    "\n",
    "    return best_intent, highest_score"
   ]
  },
  {
   "cell_type": "code",
   "execution_count": 29,
   "metadata": {},
   "outputs": [
    {
     "name": "stdout",
     "output_type": "stream",
     "text": [
      "Query : কেমন আছেন আনপ্নারা -> Intent : greeting -> Score : 0.47236761450767517\n",
      "Query : আজকের জন্য বিদায়  -> Intent : goodbye -> Score : 0.7884892225265503\n",
      "Query : আজকের আকাশ কেমন  -> Intent : weather -> Score : 0.5991542935371399\n",
      "Query : Is it sunny day? -> Intent : weather -> Score : 0.6514041423797607\n",
      "Query : Today is too much hot -> Intent : weather -> Score : 0.5234214067459106\n",
      "Query : Where’s my delivery? -> Intent : order_status -> Score : 0.650810956954956\n",
      "Query : Has my package been shipped? -> Intent : order_status -> Score : 0.7269501686096191\n",
      "Query : How many vacation days do I have? -> Intent : Annual Leave Allowance -> Score : 0.6641182899475098\n",
      "Query : What happens if I miss a day of work? -> Intent : Attendance -> Score : 0.9123213291168213\n",
      "Query : Can I cash out unused leave? -> Intent : Leave Encashment Policy -> Score : 0.8274987936019897\n",
      "Query : What happens if I need to take emergency leave? -> Intent : Leave Policy -> Score : 0.6962064504623413\n"
     ]
    }
   ],
   "source": [
    "queries = [\"কেমন আছেন আনপ্নারা\", \"আজকের জন্য বিদায় \",\"আজকের আকাশ কেমন \",\"Is it sunny day?\",\"Today is too much hot\",\"Where’s my delivery?\",\n",
    "           \"Has my package been shipped?\",\"How many vacation days do I have?\",\"What happens if I miss a day of work?\",\n",
    "           \"Can I cash out unused leave?\",\"What happens if I need to take emergency leave?\"\n",
    "        ]\n",
    "\n",
    "for query in queries:\n",
    "    intent, score = find_intent(query)\n",
    "    print(f'Query : {query} -> Intent : {intent} -> Score : {score}')"
   ]
  }
 ],
 "metadata": {
  "kernelspec": {
   "display_name": "env",
   "language": "python",
   "name": "python3"
  },
  "language_info": {
   "codemirror_mode": {
    "name": "ipython",
    "version": 3
   },
   "file_extension": ".py",
   "mimetype": "text/x-python",
   "name": "python",
   "nbconvert_exporter": "python",
   "pygments_lexer": "ipython3",
   "version": "3.12.3"
  }
 },
 "nbformat": 4,
 "nbformat_minor": 2
}
