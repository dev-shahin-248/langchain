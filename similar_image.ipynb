{
 "cells": [
  {
   "cell_type": "code",
   "execution_count": 5,
   "metadata": {},
   "outputs": [
    {
     "name": "stdout",
     "output_type": "stream",
     "text": [
      "Loaded embeddings size: torch.Size([8, 512])\n",
      "Best match: book1.pdf with similarity score: -0.0418\n"
     ]
    }
   ],
   "source": [
    "import os\n",
    "import numpy as np\n",
    "import torch\n",
    "import torch.nn as nn\n",
    "import torch.optim as optim\n",
    "from torchvision import transforms\n",
    "from PIL import Image\n",
    "from transformers import CLIPProcessor, CLIPModel\n",
    "\n",
    "# Define the Siamese Network\n",
    "class SiameseNetwork(nn.Module):\n",
    "    def __init__(self, embedding_dim=512):\n",
    "        super(SiameseNetwork, self).__init__()\n",
    "        self.fc = nn.Sequential(\n",
    "            nn.Linear(embedding_dim, 256),\n",
    "            nn.ReLU(),\n",
    "            nn.Linear(256, 128),\n",
    "            nn.ReLU(),\n",
    "            nn.Linear(128, 1)  # Output similarity score\n",
    "        )\n",
    "\n",
    "    def forward(self, emb1, emb2):\n",
    "        distance = torch.abs(emb1 - emb2)  # Absolute difference\n",
    "        similarity = self.fc(distance)\n",
    "        return similarity\n",
    "\n",
    "# Initialize Siamese Network\n",
    "device = torch.device(\"cuda\" if torch.cuda.is_available() else \"cpu\")\n",
    "siamese_model = SiameseNetwork().to(device)\n",
    "\n",
    "# Load CLIP model for image embeddings\n",
    "clip_model = CLIPModel.from_pretrained(\"openai/clip-vit-base-patch32\").to(device)\n",
    "processor = CLIPProcessor.from_pretrained(\"openai/clip-vit-base-patch32\")\n",
    "\n",
    "# Load stored embeddings\n",
    "embedding_dir = 'db'\n",
    "image_dir = 'db'\n",
    "embeddings_list = []\n",
    "image_filenames = []\n",
    "\n",
    "for filename in os.listdir(embedding_dir):\n",
    "    if filename.endswith('_embedding.txt'):\n",
    "        embedding_path = os.path.join(embedding_dir, filename)\n",
    "        embedding = np.loadtxt(embedding_path)\n",
    "        embeddings_list.append(torch.tensor(embedding, dtype=torch.float32).to(device))\n",
    "\n",
    "        image_filename = filename.replace('_embedding.txt', '')  # Adjust extension if needed\n",
    "        image_filenames.append(image_filename)\n",
    "\n",
    "# Convert list to tensor\n",
    "embeddings_tensor = torch.stack(embeddings_list)\n",
    "\n",
    "print(\"Loaded embeddings size:\", embeddings_tensor.shape)\n",
    "\n",
    "# Load and encode the query image\n",
    "image_path = \"./data/input/product-img-4.jpg\"\n",
    "query_image = Image.open(image_path)\n",
    "\n",
    "inputs = processor(images=query_image, return_tensors=\"pt\").to(device)\n",
    "query_image_vector = clip_model.get_image_features(**inputs).detach()\n",
    "\n",
    "# Compute similarity scores using the Siamese Network\n",
    "query_image_vector = query_image_vector.squeeze(0)  # Remove batch dimension\n",
    "similarity_scores = []\n",
    "for stored_embedding in embeddings_tensor:\n",
    "    score = siamese_model(query_image_vector, stored_embedding)\n",
    "    similarity_scores.append(score.item())\n",
    "\n",
    "# Find the best match\n",
    "best_match_index = np.argmax(similarity_scores)\n",
    "best_match_filename = image_filenames[best_match_index]\n",
    "\n",
    "print(f\"Best match: {best_match_filename} with similarity score: {similarity_scores[best_match_index]:.4f}\")\n"
   ]
  }
 ],
 "metadata": {
  "kernelspec": {
   "display_name": "env",
   "language": "python",
   "name": "python3"
  },
  "language_info": {
   "codemirror_mode": {
    "name": "ipython",
    "version": 3
   },
   "file_extension": ".py",
   "mimetype": "text/x-python",
   "name": "python",
   "nbconvert_exporter": "python",
   "pygments_lexer": "ipython3",
   "version": "3.12.3"
  }
 },
 "nbformat": 4,
 "nbformat_minor": 2
}
