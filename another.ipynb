{
 "cells": [
  {
   "cell_type": "code",
   "execution_count": 5,
   "metadata": {},
   "outputs": [
    {
     "name": "stdout",
     "output_type": "stream",
     "text": [
      "[[0.6502657  0.46062407 0.27988875 0.3605373  0.34908727 0.43779412\n",
      "  0.2977665  0.29149652]]\n",
      "Best match: car.jpeg with similarity score: 0.6503\n"
     ]
    }
   ],
   "source": [
    "from transformers import CLIPProcessor, CLIPModel\n",
    "import torch\n",
    "from PIL import Image\n",
    "import numpy as np\n",
    "import os\n",
    "from sklearn.metrics.pairwise import cosine_similarity\n",
    "\n",
    "# Load CLIP model and processor\n",
    "model = CLIPModel.from_pretrained(\"openai/clip-vit-base-patch32\")\n",
    "processor = CLIPProcessor.from_pretrained(\"openai/clip-vit-base-patch32\")\n",
    "\n",
    "# Function to get image embeddings\n",
    "def get_image_embeddings(image_list):\n",
    "    inputs = processor(images=image_list, return_tensors=\"pt\")\n",
    "    with torch.no_grad():\n",
    "        image_features = model.get_image_features(**inputs)\n",
    "    return image_features\n",
    "\n",
    "# Load images from directory\n",
    "image_dir = 'data'\n",
    "image_list = []\n",
    "image_filenames = []\n",
    "\n",
    "for filename in os.listdir(image_dir):\n",
    "    if filename.endswith(('jpg', 'jpeg', 'png', 'bmp', 'gif')):\n",
    "        image_path = os.path.join(image_dir, filename)\n",
    "        img = Image.open(image_path)\n",
    "        image_list.append(img)\n",
    "        image_filenames.append(filename)\n",
    "\n",
    "# Get embeddings for all images\n",
    "image_embeddings = get_image_embeddings(image_list)\n",
    "\n",
    "# Normalize embeddings\n",
    "image_embeddings = image_embeddings / image_embeddings.norm(dim=-1, keepdim=True)\n",
    "\n",
    "# Load and encode the query image\n",
    "query_image_path = \"./data/input/car.jpeg\"\n",
    "query_image = Image.open(query_image_path)\n",
    "query_embedding = get_image_embeddings([query_image])\n",
    "query_embedding = query_embedding / query_embedding.norm(dim=-1, keepdim=True)\n",
    "\n",
    "# Compute cosine similarity between query and all images\n",
    "similarity_scores = cosine_similarity(query_embedding, image_embeddings)\n",
    "\n",
    "print(similarity_scores)\n",
    "# Find the best match\n",
    "best_match_index = np.argmax(similarity_scores)\n",
    "best_match_filename = image_filenames[best_match_index]\n",
    "\n",
    "print(f\"Best match: {best_match_filename} with similarity score: {similarity_scores[0][best_match_index]:.4f}\")"
   ]
  }
 ],
 "metadata": {
  "kernelspec": {
   "display_name": "env",
   "language": "python",
   "name": "python3"
  },
  "language_info": {
   "codemirror_mode": {
    "name": "ipython",
    "version": 3
   },
   "file_extension": ".py",
   "mimetype": "text/x-python",
   "name": "python",
   "nbconvert_exporter": "python",
   "pygments_lexer": "ipython3",
   "version": "3.12.3"
  }
 },
 "nbformat": 4,
 "nbformat_minor": 2
}
