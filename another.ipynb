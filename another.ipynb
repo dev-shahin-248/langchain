{
 "cells": [
  {
   "cell_type": "code",
   "execution_count": 3,
   "metadata": {},
   "outputs": [
    {
     "name": "stdout",
     "output_type": "stream",
     "text": [
      "[np.float32(0.21607408), np.float32(0.4147325), np.float32(0.44693565), np.float32(0.45196933), np.float32(0.47855628), np.float32(0.48485374), np.float32(0.4991418), np.float32(0.53800696), np.float32(0.61015093), np.float32(0.6744036), np.float32(0.6748359), np.float32(0.7826628), np.float32(0.81130695), np.float32(0.8668111)]\n",
      "Top 1 match: product-img-13.jpg with similarity score: 0.8668\n",
      "Top 2 match: pineapple-2.jpg with similarity score: 0.8113\n",
      "Top 3 match: pine3.jpg with similarity score: 0.7827\n"
     ]
    }
   ],
   "source": [
    "from transformers import CLIPProcessor, CLIPModel\n",
    "import torch\n",
    "from PIL import Image\n",
    "import numpy as np\n",
    "import os\n",
    "from sklearn.metrics.pairwise import cosine_similarity\n",
    "\n",
    "model = CLIPModel.from_pretrained(\"openai/clip-vit-base-patch32\")\n",
    "processor = CLIPProcessor.from_pretrained(\"openai/clip-vit-base-patch32\")\n",
    "\n",
    "def get_image_embeddings(image_list):\n",
    "    inputs = processor(images=image_list, return_tensors=\"pt\")\n",
    "    with torch.no_grad():\n",
    "        image_features = model.get_image_features(**inputs)\n",
    "    return image_features\n",
    "\n",
    "image_dir = 'data'\n",
    "image_list = []\n",
    "image_filenames = []\n",
    "\n",
    "for filename in os.listdir(image_dir):\n",
    "    if filename.endswith(('jpg', 'jpeg', 'png', 'bmp', 'gif')):\n",
    "        image_path = os.path.join(image_dir, filename)\n",
    "        img = Image.open(image_path)\n",
    "        image_list.append(img)\n",
    "        image_filenames.append(filename)\n",
    "\n",
    "image_embeddings = get_image_embeddings(image_list)\n",
    "\n",
    "image_embeddings = image_embeddings / image_embeddings.norm(dim=-1, keepdim=True)\n",
    "\n",
    "query_image_path = \"./data/input/pineapple.jpg\"\n",
    "query_image = Image.open(query_image_path)\n",
    "query_embedding = get_image_embeddings([query_image])\n",
    "query_embedding = query_embedding / query_embedding.norm(dim=-1, keepdim=True)\n",
    "\n",
    "similarity_scores = cosine_similarity(query_embedding, image_embeddings)\n",
    "\n",
    "print(sorted(similarity_scores[0]))\n",
    "\n",
    "\n",
    "best_match_index = np.argmax(similarity_scores)\n",
    "best_match_filename = image_filenames[best_match_index]\n",
    "\n",
    "#print(f\"Best match: {best_match_filename} with similarity score: {similarity_scores[0][best_match_index]:.4f}\")\n",
    "\n",
    "\n",
    "# Get the top 3 similar items\n",
    "top_k = 3\n",
    "top_k_indices = np.argsort(similarity_scores[0])[-top_k:][::-1]  # Indices of top 3 matches\n",
    "top_k_filenames = [image_filenames[i] for i in top_k_indices]\n",
    "top_k_scores = [similarity_scores[0][i] for i in top_k_indices]\n",
    "\n",
    "# Print the top 3 similar items\n",
    "for i, (filename, score) in enumerate(zip(top_k_filenames, top_k_scores)):\n",
    "    print(f\"Top {i + 1} match: {filename} with similarity score: {score:.4f}\")"
   ]
  },
  {
   "cell_type": "code",
   "execution_count": null,
   "metadata": {},
   "outputs": [],
   "source": []
  }
 ],
 "metadata": {
  "kernelspec": {
   "display_name": "env",
   "language": "python",
   "name": "python3"
  },
  "language_info": {
   "codemirror_mode": {
    "name": "ipython",
    "version": 3
   },
   "file_extension": ".py",
   "mimetype": "text/x-python",
   "name": "python",
   "nbconvert_exporter": "python",
   "pygments_lexer": "ipython3",
   "version": "3.12.3"
  }
 },
 "nbformat": 4,
 "nbformat_minor": 2
}
